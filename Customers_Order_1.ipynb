{
 "cells": [
  {
   "cell_type": "code",
   "execution_count": 9,
   "id": "f838a1de",
   "metadata": {},
   "outputs": [],
   "source": [
    "# !pip install scipy"
   ]
  },
  {
   "cell_type": "code",
   "execution_count": 2,
   "id": "7d649852",
   "metadata": {},
   "outputs": [],
   "source": [
    "import warnings\n",
    "import numpy as np\n",
    "import pandas as pd\n",
    "import seaborn as sns\n",
    "import matplotlib.pyplot as plt\n",
    "from plotly.offline import init_notebook_mode, iplot\n",
    "import plotly.graph_objs as go\n",
    "from plotly import tools\n",
    "#from utils import discrete_plot\n",
    "from sklearn import datasets\n",
    "import statsmodels.api as sm\n",
    "import statsmodels.formula.api as smf\n",
    "import seaborn as sns\n",
    "import datetime as dt\n",
    "import calendar\n",
    "from scipy.stats import skew,kurtosis"
   ]
  },
  {
   "cell_type": "code",
   "execution_count": 7,
   "id": "b99ca179",
   "metadata": {},
   "outputs": [
    {
     "data": {
      "text/html": [
       "<div>\n",
       "<style scoped>\n",
       "    .dataframe tbody tr th:only-of-type {\n",
       "        vertical-align: middle;\n",
       "    }\n",
       "\n",
       "    .dataframe tbody tr th {\n",
       "        vertical-align: top;\n",
       "    }\n",
       "\n",
       "    .dataframe thead th {\n",
       "        text-align: right;\n",
       "    }\n",
       "</style>\n",
       "<table border=\"1\" class=\"dataframe\">\n",
       "  <thead>\n",
       "    <tr style=\"text-align: right;\">\n",
       "      <th></th>\n",
       "      <th>Unnamed: 0</th>\n",
       "      <th>customer_email</th>\n",
       "      <th>net_revenue</th>\n",
       "      <th>year</th>\n",
       "    </tr>\n",
       "  </thead>\n",
       "  <tbody>\n",
       "    <tr>\n",
       "      <th>0</th>\n",
       "      <td>0</td>\n",
       "      <td>nhknapwsbx@gmail.com</td>\n",
       "      <td>249.92</td>\n",
       "      <td>2015</td>\n",
       "    </tr>\n",
       "    <tr>\n",
       "      <th>1</th>\n",
       "      <td>1</td>\n",
       "      <td>joiuzbvcpn@gmail.com</td>\n",
       "      <td>87.61</td>\n",
       "      <td>2015</td>\n",
       "    </tr>\n",
       "    <tr>\n",
       "      <th>2</th>\n",
       "      <td>2</td>\n",
       "      <td>ukkjctepxt@gmail.com</td>\n",
       "      <td>168.38</td>\n",
       "      <td>2015</td>\n",
       "    </tr>\n",
       "    <tr>\n",
       "      <th>3</th>\n",
       "      <td>3</td>\n",
       "      <td>gykatilzrt@gmail.com</td>\n",
       "      <td>62.40</td>\n",
       "      <td>2015</td>\n",
       "    </tr>\n",
       "    <tr>\n",
       "      <th>4</th>\n",
       "      <td>4</td>\n",
       "      <td>mmsgsrtxah@gmail.com</td>\n",
       "      <td>43.08</td>\n",
       "      <td>2015</td>\n",
       "    </tr>\n",
       "  </tbody>\n",
       "</table>\n",
       "</div>"
      ],
      "text/plain": [
       "   Unnamed: 0         customer_email  net_revenue  year\n",
       "0           0   nhknapwsbx@gmail.com       249.92  2015\n",
       "1           1   joiuzbvcpn@gmail.com        87.61  2015\n",
       "2           2   ukkjctepxt@gmail.com       168.38  2015\n",
       "3           3   gykatilzrt@gmail.com        62.40  2015\n",
       "4           4   mmsgsrtxah@gmail.com        43.08  2015"
      ]
     },
     "execution_count": 7,
     "metadata": {},
     "output_type": "execute_result"
    }
   ],
   "source": [
    "data = pd.read_csv(\"/Volumes/GoogleDrive/My Drive/Jobs & Internship/Interview/Stout/casestudy.csv\")\n",
    "data.head()"
   ]
  },
  {
   "cell_type": "code",
   "execution_count": 9,
   "id": "a6217fae",
   "metadata": {},
   "outputs": [
    {
     "name": "stdout",
     "output_type": "stream",
     "text": [
      "Total number of customers 685927 \n",
      "\n",
      "Total number of unique customers 604618 \n",
      "\n",
      "Total number of repeated customers 81309\n"
     ]
    }
   ],
   "source": [
    "# Total number of users\n",
    "print(\"Total number of customers\",data['customer_email'].count(),'\\n')\n",
    "print(\"Total number of unique customers\",data['customer_email'].nunique(),'\\n')\n",
    "print(\"Total number of repeated customers\",(data['customer_email'].count()) - (data['customer_email'].nunique()))"
   ]
  },
  {
   "cell_type": "code",
   "execution_count": 16,
   "id": "0d9e4dfb",
   "metadata": {},
   "outputs": [
    {
     "name": "stdout",
     "output_type": "stream",
     "text": [
      "Total revenue for year 2017 is:  31417495.03\n"
     ]
    }
   ],
   "source": [
    "# Total revenue for current year\n",
    "total_revenue = data.groupby('year')['net_revenue'].sum()\n",
    "total_revenue\n",
    "\n",
    "total_revenue_2017= data.loc[data['year']==2017]['net_revenue'].sum()\n",
    "\n",
    "print(\"Total revenue for year 2017 is: \",round(total_revenue_2017,2) )"
   ]
  },
  {
   "cell_type": "code",
   "execution_count": 14,
   "id": "5a773464",
   "metadata": {},
   "outputs": [],
   "source": [
    "total_revenue_2017= data.loc[data['year']==2017]['net_revenue'].sum()"
   ]
  },
  {
   "cell_type": "code",
   "execution_count": 17,
   "id": "52cc6a58",
   "metadata": {},
   "outputs": [
    {
     "data": {
      "text/plain": [
       "year\n",
       "2015    29036749.19\n",
       "2016    25730943.59\n",
       "2017    31417495.03\n",
       "Name: net_revenue, dtype: float64"
      ]
     },
     "execution_count": 17,
     "metadata": {},
     "output_type": "execute_result"
    }
   ],
   "source": [
    "# 1 - Total Revenue\n",
    "total_revenue"
   ]
  },
  {
   "cell_type": "code",
   "execution_count": 25,
   "id": "f1995e3d",
   "metadata": {},
   "outputs": [
    {
     "data": {
      "text/plain": [
       "249987"
      ]
     },
     "execution_count": 25,
     "metadata": {},
     "output_type": "execute_result"
    }
   ],
   "source": [
    "# \n",
    "data.loc[data['year']==2017]['customer_email'].nunique()"
   ]
  },
  {
   "cell_type": "code",
   "execution_count": 60,
   "id": "c1896350",
   "metadata": {},
   "outputs": [],
   "source": [
    "# New Customer Revenue\n",
    "new_cust =len(set(data.loc[data['year']==2017]['customer_email'].tolist())-\\\n",
    "    set(data.loc[data['year']==2016]['customer_email'].tolist())-\\\n",
    "    set(data.loc[data['year']==2015]['customer_email'].tolist()))"
   ]
  },
  {
   "cell_type": "code",
   "execution_count": 64,
   "id": "79728aac",
   "metadata": {},
   "outputs": [],
   "source": [
    "lost_cust = len (set(data.loc[data['year']==2016]['customer_email'].tolist())-\\\n",
    "    set(data.loc[data['year']==2015]['customer_email'].tolist()))"
   ]
  },
  {
   "cell_type": "code",
   "execution_count": 31,
   "id": "20be0b14",
   "metadata": {},
   "outputs": [],
   "source": [
    "New_cust_rev = data.set_index('customer_email').loc[list(set(data.loc[data['year']==2017]['customer_email'].tolist())-\\\n",
    "    set(data.loc[data['year']==2016]['customer_email'].tolist())-\\\n",
    "    set(data.loc[data['year']==2015]['customer_email'].tolist()))].reset_index()['net_revenue'].sum()"
   ]
  },
  {
   "cell_type": "code",
   "execution_count": 32,
   "id": "5a152f13",
   "metadata": {},
   "outputs": [
    {
     "name": "stdout",
     "output_type": "stream",
     "text": [
      "New Customer Revenue  28676607.64\n"
     ]
    }
   ],
   "source": [
    "print(\"New Customer Revenue \",round(New_cust_rev,2))"
   ]
  },
  {
   "cell_type": "code",
   "execution_count": 33,
   "id": "48d9355f",
   "metadata": {},
   "outputs": [],
   "source": [
    "existing_customers_2017 = list(set(data.loc[data['year']==2017]['customer_email']).intersection(set(data.loc[data['year']==2016]['customer_email'])))"
   ]
  },
  {
   "cell_type": "code",
   "execution_count": 34,
   "id": "ddd94e80",
   "metadata": {},
   "outputs": [
    {
     "data": {
      "text/plain": [
       "20959"
      ]
     },
     "execution_count": 34,
     "metadata": {},
     "output_type": "execute_result"
    }
   ],
   "source": [
    "len(existing_customers_2017)"
   ]
  },
  {
   "cell_type": "code",
   "execution_count": 36,
   "id": "b3b2aff2",
   "metadata": {},
   "outputs": [
    {
     "data": {
      "text/plain": [
       "20611.33999999985"
      ]
     },
     "execution_count": 36,
     "metadata": {},
     "output_type": "execute_result"
    }
   ],
   "source": [
    "# Existing Customer Revuew Current Year 2017-2016\n",
    "temp1 = data.set_index('customer_email').loc[existing_customers_2017]\n",
    "temp1.loc[temp1['year']==2017]['net_revenue'].sum()-temp1.loc[temp1['year']==2016]['net_revenue'].sum()\n",
    "\n",
    "Print (\"\")"
   ]
  },
  {
   "cell_type": "code",
   "execution_count": 46,
   "id": "360b488a",
   "metadata": {},
   "outputs": [
    {
     "name": "stdout",
     "output_type": "stream",
     "text": [
      "Existing Customer Review Previous Year 2016-2015:   1847786.37\n"
     ]
    }
   ],
   "source": [
    "# Existing Customer Revuew Previous Year 2016-2015\n",
    "temp1 = data.set_index('customer_email').loc[existing_customers_2017]\n",
    "temp2=temp1.loc[temp1['year']==2016]['net_revenue'].sum()-temp1.loc[temp1['year']==2015]['net_revenue'].sum()\n",
    "\n",
    "print(\"Existing Customer Review Previous Year 2016-2015:  \", round(temp2,2))"
   ]
  },
  {
   "cell_type": "code",
   "execution_count": 52,
   "id": "dff07943",
   "metadata": {},
   "outputs": [],
   "source": [
    "user_2017= data.loc[data['year'] == 2017]\n",
    "user_2016= data.loc[data['year'] == 2016]\n",
    "user_2015= data.loc[data['year'] == 2015]"
   ]
  },
  {
   "cell_type": "code",
   "execution_count": 58,
   "id": "257ab71f",
   "metadata": {},
   "outputs": [
    {
     "name": "stdout",
     "output_type": "stream",
     "text": [
      "# Total Customers Current Year Unnamed: 0        249987\n",
      "customer_email    249987\n",
      "net_revenue       249987\n",
      "year              249987\n",
      "dtype: int64\n"
     ]
    }
   ],
   "source": [
    "#Total Customers Current Year\n",
    "print (\"# Total Customers Current Year\", user_2017.count())"
   ]
  },
  {
   "cell_type": "code",
   "execution_count": 59,
   "id": "7b13b9ed",
   "metadata": {},
   "outputs": [
    {
     "name": "stdout",
     "output_type": "stream",
     "text": [
      "# Total Customers Current Year Unnamed: 0        204646\n",
      "customer_email    204646\n",
      "net_revenue       204646\n",
      "year              204646\n",
      "dtype: int64\n"
     ]
    }
   ],
   "source": [
    "#Total Customers Previous Year\n",
    "print (\"# Total Customers Current Year\", user_2016.count())"
   ]
  },
  {
   "cell_type": "code",
   "execution_count": 62,
   "id": "00675f3d",
   "metadata": {},
   "outputs": [
    {
     "name": "stderr",
     "output_type": "stream",
     "text": [
      "/opt/anaconda3/lib/python3.8/site-packages/seaborn/distributions.py:2619: FutureWarning:\n",
      "\n",
      "`distplot` is a deprecated function and will be removed in a future version. Please adapt your code to use either `displot` (a figure-level function with similar flexibility) or `histplot` (an axes-level function for histograms).\n",
      "\n"
     ]
    },
    {
     "data": {
      "text/plain": [
       "Text(0, 0.5, 'Frequency')"
      ]
     },
     "execution_count": 62,
     "metadata": {},
     "output_type": "execute_result"
    },
    {
     "data": {
      "image/png": "[encoded data removed]",
      "text/plain": [
       "<Figure size 1080x720 with 1 Axes>"
      ]
     },
     "metadata": {
      "needs_background": "light"
     },
     "output_type": "display_data"
    }
   ],
   "source": [
    "# Lets plot a histogram of the net revenue to understand the skewness\n",
    "plt.figure(figsize=(15,10))\n",
    "\n",
    "plt.subplot(221)\n",
    "g = sns.distplot(np.log(data['net_revenue'] + 1))\n",
    "g.set_title(\"Product Value of Orders - Distribution\", fontsize=15)\n",
    "g.set_xlabel(\"\")\n",
    "g.set_ylabel(\"Frequency\", fontsize=12)"
   ]
  },
  {
   "cell_type": "code",
   "execution_count": 61,
   "id": "3a19a13e",
   "metadata": {},
   "outputs": [
    {
     "name": "stdout",
     "output_type": "stream",
     "text": [
      "Total number of unique customers 604618 \n",
      "\n"
     ]
    }
   ],
   "source": [
    "# New Customer\n",
    "print(\"Total number of unique customers\",data['customer_email'].nunique(),'\\n')"
   ]
  },
  {
   "cell_type": "code",
   "execution_count": 67,
   "id": "ccade4ca",
   "metadata": {},
   "outputs": [
    {
     "name": "stdout",
     "output_type": "stream",
     "text": [
      "Total number of lost customers 145062\n"
     ]
    }
   ],
   "source": [
    "# Lost Customer\n",
    "print(\"Total number of lost customers\", round(lost_cust))"
   ]
  },
  {
   "cell_type": "code",
   "execution_count": null,
   "id": "b835ee80",
   "metadata": {},
   "outputs": [],
   "source": []
  }
 ],
 "metadata": {
  "kernelspec": {
   "display_name": "Python 3 (ipykernel)",
   "language": "python",
   "name": "python3"
  },
  "language_info": {
   "codemirror_mode": {
    "name": "ipython",
    "version": 3
   },
   "file_extension": ".py",
   "mimetype": "text/x-python",
   "name": "python",
   "nbconvert_exporter": "python",
   "pygments_lexer": "ipython3",
   "version": "3.8.8"
  }
 },
 "nbformat": 4,
 "nbformat_minor": 5
}
